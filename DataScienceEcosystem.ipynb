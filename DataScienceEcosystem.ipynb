{
  "nbformat": 4,
  "nbformat_minor": 0,
  "metadata": {
    "colab": {
      "provenance": []
    },
    "kernelspec": {
      "name": "python3",
      "display_name": "Python 3"
    },
    "language_info": {
      "name": "python"
    }
  },
  "cells": [
    {
      "cell_type": "markdown",
      "source": [
        "<h1>Data Science Tools and Ecosystem<h1>"
      ],
      "metadata": {
        "id": "zY6F_pYGnlat"
      }
    },
    {
      "cell_type": "markdown",
      "source": [
        "In this notebook, Data Science Tools and Ecosystem are summarized.\n"
      ],
      "metadata": {
        "id": "9wbBIsfKojEs"
      }
    },
    {
      "cell_type": "markdown",
      "source": [
        "**Objectives:**\n",
        "\n",
        "\n",
        "*   List popular languages for Data Science\n",
        "*   libraries used by Data Scientists\n",
        "*   Data Science Tools\n",
        "\n"
      ],
      "metadata": {
        "id": "WodZFUQKtCcC"
      }
    },
    {
      "cell_type": "markdown",
      "source": [
        "Some of the popular languages that Data Scientists use are:\n",
        "\n",
        "\n",
        "1.   Python\n",
        "2.   R\n",
        "3.   SQL\n",
        "\n"
      ],
      "metadata": {
        "id": "maKuBCuoow70"
      }
    },
    {
      "cell_type": "markdown",
      "source": [
        "Some of the commonly used libraries used by Data Scientists include:\n",
        "\n",
        "\n",
        "1.   Pandas\n",
        "2.   numpy\n",
        "3.   tensorflow\n",
        "4.   seaborn\n",
        "5.   pytorch\n",
        "\n"
      ],
      "metadata": {
        "id": "TXDQ1LSmpIOG"
      }
    },
    {
      "cell_type": "markdown",
      "source": [
        "| Data Science Tools |\n",
        "|:--------:|\n",
        "|  power BI  |\n",
        "|  Apache Hadoop   | *texte en italique*\n",
        "|  Exel   |"
      ],
      "metadata": {
        "id": "5XSGqoFWqIU8"
      }
    },
    {
      "cell_type": "markdown",
      "source": [
        "<h3>Below are a few examples of evaluating arithmetic expressions in Python.<h3>"
      ],
      "metadata": {
        "id": "n_2vTZ2rrWWK"
      }
    },
    {
      "cell_type": "code",
      "source": [
        "#this a simple arithmetic expression to mutiply then add integers\n",
        "(3*4)+5"
      ],
      "metadata": {
        "colab": {
          "base_uri": "https://localhost:8080/"
        },
        "id": "Q6LBuP0jnuxt",
        "outputId": "bc1558fb-ff86-4747-d019-483c9394f679"
      },
      "execution_count": 5,
      "outputs": [
        {
          "output_type": "execute_result",
          "data": {
            "text/plain": [
              "17"
            ]
          },
          "metadata": {},
          "execution_count": 5
        }
      ]
    },
    {
      "cell_type": "code",
      "source": [
        "#This will convert 200 minutes to hours by diving by 60\n",
        "print(\"200 min in hours is :\",200/60)"
      ],
      "metadata": {
        "colab": {
          "base_uri": "https://localhost:8080/"
        },
        "id": "GLHUGVD7sDEE",
        "outputId": "249e933f-bf39-42e0-f80e-bdf3e298ecf4"
      },
      "execution_count": 6,
      "outputs": [
        {
          "output_type": "stream",
          "name": "stdout",
          "text": [
            "200 min in hours is : 3.3333333333333335\n"
          ]
        }
      ]
    },
    {
      "cell_type": "markdown",
      "source": [
        "<h2>Author:<h2>\n",
        "\n",
        "Taibaoui Abdellah"
      ],
      "metadata": {
        "id": "MAbiHefzts63"
      }
    }
  ]
}